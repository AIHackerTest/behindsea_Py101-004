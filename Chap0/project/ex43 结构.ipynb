{
 "cells": [
  {
   "cell_type": "markdown",
   "metadata": {},
   "source": [
    "#  exercise43 结构\n",
    "\n",
    "## 类结构\n",
    "\n",
    "- Scene：情景父类，均只拥有enter方法处理进入场景事件\n",
    "    - Death：\n",
    "    - CentralCorridor\n",
    "    - LasterWeaponArmory\n",
    "    - TheBridge\n",
    "    - EscapePod\n",
    "    - Finished\n",
    "    \n",
    "- Map：地图，用于选择场景\n",
    "- Engine：启动器，用于执行\n",
    "\n",
    "## 属性方法\n",
    "\n",
    "- Scene\n",
    "    - enter()：进入场景后执行的动作，根据场景不同而不同\n",
    "- Map\n",
    "    - scenes：所有场景的string名称与实例化类对应的字典\n",
    "    - start_scene：开始场景\n",
    "    - next_scene()：根据名称string返回实例化的场景对象\n",
    "    - opening_scene()：调用next_scene()\n",
    "- Engine\n",
    "    - play()：从scene_map开始游戏\n",
    "    - scene_map：开始场景\n",
    "    \n",
    "## 调用逻辑\n",
    "\n",
    "\n",
    "1. 实例化Map类，获得各种场景的实例化类\n",
    "2. 将场景Map作为参数实例化Engine类\n",
    "3. 调用实例化Engine的play()方法，开始游戏\n",
    "    1. 确定当前场景和结束场景\n",
    "    2. 当前场景不是结束场景时，调用各种Scene类的enter方法，并根据用户输入获取返回值\n",
    "    3. 根据返回的string，调用Map的opening_scene(),调用next_scene()获得下一个场景的实例化对象\n",
    "    4. 重复执行2，直到当前场景对象为结束场景时退出循环。\n",
    "    5. 调用当前场景（也是结束场景）的enter()\n",
    "    6. 游戏结束。\n",
    "    "
   ]
  },
  {
   "cell_type": "code",
   "execution_count": null,
   "metadata": {
    "collapsed": true
   },
   "outputs": [],
   "source": []
  }
 ],
 "metadata": {
  "kernelspec": {
   "display_name": "Python 3",
   "language": "python",
   "name": "python3"
  },
  "language_info": {
   "codemirror_mode": {
    "name": "ipython",
    "version": 3
   },
   "file_extension": ".py",
   "mimetype": "text/x-python",
   "name": "python",
   "nbconvert_exporter": "python",
   "pygments_lexer": "ipython3",
   "version": "3.6.0"
  }
 },
 "nbformat": 4,
 "nbformat_minor": 2
}
