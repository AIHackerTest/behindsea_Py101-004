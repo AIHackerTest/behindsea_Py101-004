{
 "cells": [
  {
   "cell_type": "markdown",
   "metadata": {},
   "source": [
    "# 简单天气查询程序教程\n",
    "本周的程序为了实现以下目标：\n",
    "\n",
    "    输入城市名，返回该城市的天气数据；\n",
    "    输入help指令，打印帮助文档；\n",
    "    输入quit指令，退出程序的交互；\n",
    "    输入history指令，打印历史查询城市；\n",
    "    在退出程序之前，打印查询过的所有城市。\n",
    " \n",
    "已知数据有已给定的weather_info.txt文本文件：数据格式是：每一行为对应的“城市,天气”（不带引号）。需要从这些数据中根据输入信息查询到对应城市的天气。\n",
    "\n",
    "核心功能就是用户输入哪个城市，然后到文本文件中查找对应的天气数据。\n",
    "\n",
    "## 解题思路\n",
    "\n",
    "1. 解决查询的数据源的问题，就是将城市名和天气状况变成字典。当然也可以不讲其分开，先查询到城市名再后输出后面的文字，可达到同样效果。\n",
    "2. 解决根据用户输入实现指定功能问题。\n",
    "    - 使用if语句，根不同情况显示不同信息：help、history、quit分别执行不同指令\n",
    "    - 对于else，查询指定的城市天气，如果没有查到，输出信息“没有找到指定城市的天气信息”。\n",
    "\n",
    "## 使用技术\n",
    "\n",
    "- 以某一特定字符编码方式打开文件"
   ]
  },
  {
   "cell_type": "code",
   "execution_count": null,
   "metadata": {},
   "outputs": [],
   "source": [
    "weather_info = open(\"weather_info.txt\", 'r', encoding = \"utf-8\")"
   ]
  },
  {
   "cell_type": "markdown",
   "metadata": {},
   "source": [
    "- 在dictionary类中查询相应数据的方法"
   ]
  },
  {
   "cell_type": "code",
   "execution_count": null,
   "metadata": {},
   "outputs": [],
   "source": [
    "weather = dictionary.get(city, \"没有找到指定城市的天气数据！\")"
   ]
  },
  {
   "cell_type": "markdown",
   "metadata": {},
   "source": [
    "- 将文件中数据转换为dictionary字典"
   ]
  },
  {
   "cell_type": "code",
   "execution_count": null,
   "metadata": {},
   "outputs": [],
   "source": [
    "weather_info = open(\"weather_info.txt\", 'r', encoding = \"utf-8\")\n",
    "weather_dic = {city.strip() : weath.strip() for city, weath in (line.split(',')  for line in weather_info)}"
   ]
  }
 ],
 "metadata": {
  "kernelspec": {
   "display_name": "Python 3",
   "language": "python",
   "name": "python3"
  },
  "language_info": {
   "codemirror_mode": {
    "name": "ipython",
    "version": 3
   },
   "file_extension": ".py",
   "mimetype": "text/x-python",
   "name": "python",
   "nbconvert_exporter": "python",
   "pygments_lexer": "ipython3",
   "version": "3.6.0"
  }
 },
 "nbformat": 4,
 "nbformat_minor": 2
}
